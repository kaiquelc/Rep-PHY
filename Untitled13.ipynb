{
  "nbformat": 4,
  "nbformat_minor": 0,
  "metadata": {
    "colab": {
      "provenance": [],
      "authorship_tag": "ABX9TyPkhbjK+D10Y7cXILD73z8o",
      "include_colab_link": true
    },
    "kernelspec": {
      "name": "python3",
      "display_name": "Python 3"
    },
    "language_info": {
      "name": "python"
    }
  },
  "cells": [
    {
      "cell_type": "markdown",
      "metadata": {
        "id": "view-in-github",
        "colab_type": "text"
      },
      "source": [
        "<a href=\"https://colab.research.google.com/github/kaiquelc/Rep-PHY/blob/main/Untitled13.ipynb\" target=\"_parent\"><img src=\"https://colab.research.google.com/assets/colab-badge.svg\" alt=\"Open In Colab\"/></a>"
      ]
    },
    {
      "cell_type": "code",
      "execution_count": 1,
      "metadata": {
        "colab": {
          "base_uri": "https://localhost:8080/"
        },
        "id": "GlRdEegYNzoC",
        "outputId": "830a6797-0d57-4a19-f535-83302810d225"
      },
      "outputs": [
        {
          "output_type": "stream",
          "name": "stdout",
          "text": [
            "IMC calculado: 22.857142857142858\n"
          ]
        }
      ],
      "source": [
        "# Parte 1: Função calcula_imc\n",
        "def calcula_imc(peso=70, altura=1.75):\n",
        "    return peso / (altura ** 2)\n",
        "\n",
        "# Testando a função\n",
        "print(\"IMC calculado:\", calcula_imc())  # Saída padrão com peso=70 e altura=1.75"
      ]
    },
    {
      "cell_type": "code",
      "source": [
        "# Parte 2: Operações com a lista 'alturas'\n",
        "import statistics\n",
        "\n",
        "alturas = [\n",
        "    45, 23, 67, 12, 11, 89, 23, 41, 50, 62, 78, 34, 56, 19, 72, 88, 11, 90, 39, 65,\n",
        "    76, 27, 48, 59, 81, 14, 11, 93, 3, 68, 29, 52, 74, 16, 85, 20, 55, 38, 69, 11,\n",
        "    83, 7, 44, 61, 18, 96, 22, 58, 31, 71, 40, 53, 87, 31\n",
        "]\n",
        "\n",
        "# Funções padrão do Python\n",
        "print(\"\\n--- Funções Padrão ---\")\n",
        "print(\"Maior valor:\", max(alturas))\n",
        "print(\"Menor valor:\", min(alturas))\n",
        "print(\"Soma total:\", sum(alturas))\n",
        "print(\"Valor absoluto de -25:\", abs(-25))\n",
        "print(\"Arredondamento de 3.14159:\", round(3.14159, 2))\n",
        "\n",
        "# Funções do módulo statistics\n",
        "print(\"\\n--- Estatísticas ---\")\n",
        "print(\"Média:\", statistics.mean(alturas))\n",
        "print(\"Mediana:\", statistics.median(alturas))\n",
        "print(\"Moda:\", statistics.mode(alturas))\n",
        "print(\"Variância (amostra):\", statistics.variance(alturas))\n",
        "print(\"Desvio padrão (amostra):\", statistics.stdev(alturas))"
      ],
      "metadata": {
        "colab": {
          "base_uri": "https://localhost:8080/"
        },
        "id": "cyjtG_TpOi1x",
        "outputId": "b3e4e2c3-0951-414a-b241-db48ef699331"
      },
      "execution_count": 2,
      "outputs": [
        {
          "output_type": "stream",
          "name": "stdout",
          "text": [
            "\n",
            "--- Funções Padrão ---\n",
            "Maior valor: 96\n",
            "Menor valor: 3\n",
            "Soma total: 2606\n",
            "Valor absoluto de -25: 25\n",
            "Arredondamento de 3.14159: 3.14\n",
            "\n",
            "--- Estatísticas ---\n",
            "Média: 48.25925925925926\n",
            "Mediana: 49.0\n",
            "Moda: 11\n",
            "Variância (amostra): 741.1013277428372\n",
            "Desvio padrão (amostra): 27.223176297831913\n"
          ]
        }
      ]
    },
    {
      "cell_type": "code",
      "source": [
        "# Parte 3: Matrizes aleatórias\n",
        "import random\n",
        "\n",
        "# Matriz 5x10 de floats entre 0 e 1\n",
        "matriz_float = [[random.random() for _ in range(10)] for _ in range(5)]\n",
        "\n",
        "# Matriz 8x4 de inteiros entre 0 e 9\n",
        "matriz_int = [[random.randint(0, 9) for _ in range(4)] for _ in range(8)]\n",
        "\n",
        "# Exibindo as matrizes\n",
        "print(\"\\n--- Matriz 5x10 (floats entre 0 e 1) ---\")\n",
        "for linha in matriz_float:\n",
        "    print(linha)\n",
        "\n",
        "print(\"\\n--- Matriz 8x4 (inteiros entre 0 e 9) ---\")\n",
        "for linha in matriz_int:\n",
        "    print(linha)"
      ],
      "metadata": {
        "colab": {
          "base_uri": "https://localhost:8080/"
        },
        "id": "b6ENhDOFOo2s",
        "outputId": "69188bca-0f47-4a3f-91b1-f820292f872c"
      },
      "execution_count": 3,
      "outputs": [
        {
          "output_type": "stream",
          "name": "stdout",
          "text": [
            "\n",
            "--- Matriz 5x10 (floats entre 0 e 1) ---\n",
            "[0.8187437753278506, 0.4892540975403771, 0.843999911736116, 0.026097297151089105, 0.828460690458062, 0.996561631705722, 0.08173555549928757, 0.6218869610131746, 0.7847084188881996, 0.47103707172961584]\n",
            "[0.5226937231345105, 0.18805902654364126, 0.608536894256546, 0.7102611415485265, 0.20481787295914744, 0.23558212536719247, 0.16652114555174935, 0.12092421148067112, 0.9708575997512431, 0.9695201014249705]\n",
            "[0.9410603894841333, 0.9377029121674567, 0.33795334825485723, 0.27040921093460657, 0.15680758438612585, 0.5398561387871145, 0.06515995991396217, 0.7145965125822762, 0.10393854712007644, 0.9551650430325485]\n",
            "[0.44269694807999105, 0.18434892112289647, 0.9895649201208253, 0.4294518759239886, 0.47191583669917614, 0.17621129748205144, 0.3255483193470847, 0.14456525493172612, 0.44600730724156035, 0.7271757090189435]\n",
            "[0.44360641703592785, 0.19453900876886088, 0.30754550361733424, 0.6974396584958261, 0.28225058217854837, 0.7019969887111699, 0.46567314505205404, 0.6045331151364902, 0.10272893633037261, 0.9125144269124102]\n",
            "\n",
            "--- Matriz 8x4 (inteiros entre 0 e 9) ---\n",
            "[5, 1, 6, 1]\n",
            "[2, 0, 6, 8]\n",
            "[0, 3, 3, 8]\n",
            "[9, 8, 7, 0]\n",
            "[6, 0, 7, 3]\n",
            "[7, 6, 9, 4]\n",
            "[1, 1, 2, 5]\n",
            "[1, 6, 3, 9]\n"
          ]
        }
      ]
    }
  ]
}